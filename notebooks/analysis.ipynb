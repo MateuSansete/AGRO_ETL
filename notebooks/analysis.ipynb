{
 "cells": [
  {
   "cell_type": "code",
   "execution_count": 6,
   "id": "3464fdf9-c82c-46f5-bd1c-411f688527f1",
   "metadata": {},
   "outputs": [
    {
     "name": "stdout",
     "output_type": "stream",
     "text": [
      "Conexão com PostgreSQL estabelecida.\n"
     ]
    }
   ],
   "source": [
    "import pandas as pd\n",
    "from sqlalchemy import create_engine\n",
    "import os\n",
    "from dotenv import load_dotenv\n",
    "\n",
    "# Configuração da Conexão (Assume que o .env foi lido pelo Docker)\n",
    "DB_USER = os.getenv('POSTGRES_USER')\n",
    "DB_PASSWORD = os.getenv('POSTGRES_PASSWORD')\n",
    "DB_NAME = os.getenv('POSTGRES_DB')\n",
    "DB_HOST = os.getenv('POSTGRES_HOST') \n",
    "DB_PORT = os.getenv('POSTGRES_PORT')\n",
    "\n",
    "DATABASE_URL = f\"postgresql://{DB_USER}:{DB_PASSWORD}@{DB_HOST}:{DB_PORT}/{DB_NAME}\"\n",
    "engine = create_engine(DATABASE_URL)\n",
    "\n",
    "print(\"Conexão com PostgreSQL estabelecida.\")"
   ]
  },
  {
   "cell_type": "code",
   "execution_count": 3,
   "id": "f10c4edb-48d7-4631-9b97-c6b95f0eb7cb",
   "metadata": {},
   "outputs": [
    {
     "name": "stdout",
     "output_type": "stream",
     "text": [
      "Dados climáticos coletados da API\n",
      "                 city  current_temp_c  humidity_percent  \\\n",
      "0   Rio Grande do Sul           17.09                82   \n",
      "1        Minas Gerais           24.20                40   \n",
      "2           Sao Paulo           20.62                87   \n",
      "3   Rio Grande do Sul           18.91                92   \n",
      "4        Minas Gerais           23.35                39   \n",
      "5           Sao Paulo           23.03                76   \n",
      "6   Rio Grande do Sul           18.91                92   \n",
      "7        Minas Gerais           23.35                39   \n",
      "8           Sao Paulo           23.03                76   \n",
      "9   Rio Grande do Sul           19.19                93   \n",
      "10       Minas Gerais           24.60                32   \n",
      "11          Sao Paulo           24.47                70   \n",
      "12  Rio Grande do Sul           19.19                93   \n",
      "13       Minas Gerais           24.60                32   \n",
      "14          Sao Paulo           24.47                70   \n",
      "\n",
      "              extraction_date  \n",
      "0  2025-10-18 10:59:58.876396  \n",
      "1  2025-10-18 10:59:58.262217  \n",
      "2  2025-10-18 10:59:57.545343  \n",
      "3  2025-10-18 00:37:41.961850  \n",
      "4  2025-10-18 00:37:41.349837  \n",
      "5  2025-10-18 00:37:40.733090  \n",
      "6  2025-10-18 00:36:53.728203  \n",
      "7  2025-10-18 00:36:53.113576  \n",
      "8  2025-10-18 00:36:52.499595  \n",
      "9  2025-10-17 23:58:52.682080  \n",
      "10 2025-10-17 23:58:51.999475  \n",
      "11 2025-10-17 23:58:51.415654  \n",
      "12 2025-10-17 23:58:25.340585  \n",
      "13 2025-10-17 23:58:24.727028  \n",
      "14 2025-10-17 23:58:24.113144  \n",
      "\n",
      "Tipos de dados do Clima:\n",
      "city                        object\n",
      "current_temp_c             float64\n",
      "humidity_percent             int64\n",
      "extraction_date     datetime64[ns]\n",
      "dtype: object\n"
     ]
    }
   ],
   "source": [
    "query_weather = \"\"\"\n",
    "SELECT \n",
    "    city, \n",
    "    current_temp_c, \n",
    "    humidity_percent, \n",
    "    extraction_date\n",
    "FROM \n",
    "    current_weather_data\n",
    "ORDER BY \n",
    "    extraction_date DESC;\n",
    "\"\"\"\n",
    "df_weather = pd.read_sql(query_weather, engine)\n",
    "\n",
    "print(\"Dados climáticos coletados da API\")\n",
    "print(df_weather)\n",
    "\n",
    "# Confirmação do tipo de dado\n",
    "print(\"\\nTipos de dados do Clima:\")\n",
    "print(df_weather.dtypes)"
   ]
  },
  {
   "cell_type": "code",
   "execution_count": 4,
   "id": "6c324e18-38ab-43d6-aa63-135cba434bf1",
   "metadata": {},
   "outputs": [
    {
     "name": "stdout",
     "output_type": "stream",
     "text": [
      "--- Dados Históricos de Rendimento (CSV) ---\n",
      "      crop  year state  yield_kg_ha  avg_temp_c_historical\n",
      "0  SOYBEAN  2023    SP       4500.5                   23.5\n",
      "1     CORN  2024    MG       6300.1                   25.5\n",
      "2  SOYBEAN  2023    SP       4500.5                   23.5\n",
      "3     CORN  2024    MG       6300.1                   25.5\n",
      "4  SOYBEAN  2023    SP       4500.5                   23.5\n",
      "5     CORN  2024    MG       6300.1                   25.5\n",
      "6  SOYBEAN  2023    SP       4500.5                   23.5\n",
      "7     CORN  2024    MG       6300.1                   25.5\n",
      "8  SOYBEAN  2023    SP       4500.5                   23.5\n",
      "9     CORN  2024    MG       6300.1                   25.5\n"
     ]
    }
   ],
   "source": [
    "query_yield = \"\"\"\n",
    "SELECT \n",
    "    crop, \n",
    "    year, \n",
    "    state, \n",
    "    yield_kg_ha, \n",
    "    avg_temp_c_historical\n",
    "FROM \n",
    "    yield_records;\n",
    "\"\"\"\n",
    "df_yield = pd.read_sql(query_yield, engine)\n",
    "\n",
    "print(\" Dados Históricos de Rendimento (csv)\")\n",
    "print(df_yield)"
   ]
  },
  {
   "cell_type": "code",
   "execution_count": 5,
   "id": "1da1ff0c-cc38-46a4-b7a9-080b31f2ff99",
   "metadata": {},
   "outputs": [
    {
     "ename": "ModuleNotFoundError",
     "evalue": "No module named 'seaborn'",
     "output_type": "error",
     "traceback": [
      "\u001b[0;31m---------------------------------------------------------------------------\u001b[0m",
      "\u001b[0;31mModuleNotFoundError\u001b[0m                       Traceback (most recent call last)",
      "Cell \u001b[0;32mIn[5], line 2\u001b[0m\n\u001b[1;32m      1\u001b[0m \u001b[38;5;28;01mimport\u001b[39;00m\u001b[38;5;250m \u001b[39m\u001b[38;5;21;01mmatplotlib\u001b[39;00m\u001b[38;5;21;01m.\u001b[39;00m\u001b[38;5;21;01mpyplot\u001b[39;00m\u001b[38;5;250m \u001b[39m\u001b[38;5;28;01mas\u001b[39;00m\u001b[38;5;250m \u001b[39m\u001b[38;5;21;01mplt\u001b[39;00m\n\u001b[0;32m----> 2\u001b[0m \u001b[38;5;28;01mimport\u001b[39;00m\u001b[38;5;250m \u001b[39m\u001b[38;5;21;01mseaborn\u001b[39;00m\u001b[38;5;250m \u001b[39m\u001b[38;5;28;01mas\u001b[39;00m\u001b[38;5;250m \u001b[39m\u001b[38;5;21;01msns\u001b[39;00m\n\u001b[1;32m      4\u001b[0m \u001b[38;5;66;03m# Consulta SQL de Agregação\u001b[39;00m\n\u001b[1;32m      5\u001b[0m query_analysis \u001b[38;5;241m=\u001b[39m \u001b[38;5;124m\"\"\"\u001b[39m\n\u001b[1;32m      6\u001b[0m \u001b[38;5;124mSELECT \u001b[39m\n\u001b[1;32m      7\u001b[0m \u001b[38;5;124m    crop, \u001b[39m\n\u001b[0;32m   (...)\u001b[0m\n\u001b[1;32m     16\u001b[0m \u001b[38;5;124m    avg_yield DESC;\u001b[39m\n\u001b[1;32m     17\u001b[0m \u001b[38;5;124m\"\"\"\u001b[39m\n",
      "\u001b[0;31mModuleNotFoundError\u001b[0m: No module named 'seaborn'"
     ]
    }
   ],
   "source": [
    "import matplotlib.pyplot as plt\n",
    "import seaborn as sns\n",
    "\n",
    "# Consulta SQL de Agregação\n",
    "query_analysis = \"\"\"\n",
    "SELECT \n",
    "    crop, \n",
    "    state, \n",
    "    AVG(yield_kg_ha) AS avg_yield\n",
    "FROM \n",
    "    yield_records\n",
    "GROUP BY \n",
    "    crop, \n",
    "    state\n",
    "ORDER BY \n",
    "    avg_yield DESC;\n",
    "\"\"\"\n",
    "\n",
    "df_analysis = pd.read_sql(query_analysis, engine)\n",
    "\n",
    "# Criação do gráfico\n",
    "plt.figure(figsize=(10, 6))\n",
    "sns.barplot(x='crop', y='avg_yield', hue='state', data=df_analysis)\n",
    "plt.title('Produtividade Média (kg/ha) por Cultura e Estado', fontsize=16)\n",
    "plt.xlabel('Cultura')\n",
    "plt.ylabel('Rendimento Médio (kg/ha)')\n",
    "plt.grid(axis='y', linestyle='--')\n",
    "plt.show()"
   ]
  },
  {
   "cell_type": "code",
   "execution_count": null,
   "id": "5363b97b-ab4b-433b-9e89-c1f2332ad8fa",
   "metadata": {},
   "outputs": [],
   "source": []
  }
 ],
 "metadata": {
  "kernelspec": {
   "display_name": "Python 3 (ipykernel)",
   "language": "python",
   "name": "python3"
  },
  "language_info": {
   "codemirror_mode": {
    "name": "ipython",
    "version": 3
   },
   "file_extension": ".py",
   "mimetype": "text/x-python",
   "name": "python",
   "nbconvert_exporter": "python",
   "pygments_lexer": "ipython3",
   "version": "3.9.17"
  }
 },
 "nbformat": 4,
 "nbformat_minor": 5
}
